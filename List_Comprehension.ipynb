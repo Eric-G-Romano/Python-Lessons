{
 "cells": [
  {
   "cell_type": "code",
   "execution_count": 2,
   "metadata": {},
   "outputs": [
    {
     "name": "stdout",
     "output_type": "stream",
     "text": [
      "['apple', 'banana', 'mango']\n"
     ]
    }
   ],
   "source": [
    "fruits = [\"apple\", \"banana\", \"cherry\", \"kiwi\", \"mango\"]\n",
    "newlist = []\n",
    "\n",
    "for x in fruits:\n",
    "  if \"a\" in x:\n",
    "    newlist.append(x)\n",
    "    \n",
    "print(newlist)"
   ]
  },
  {
   "cell_type": "code",
   "execution_count": 3,
   "metadata": {},
   "outputs": [
    {
     "name": "stdout",
     "output_type": "stream",
     "text": [
      "['apple', 'banana', 'mango']\n"
     ]
    }
   ],
   "source": [
    "# List Comprehension\n",
    "# newlist = [expression for item in iterable if condition == True]\n",
    "newlist = [x for x in fruits if \"a\" in x]\n",
    "print(newlist)"
   ]
  },
  {
   "cell_type": "code",
   "execution_count": 4,
   "metadata": {},
   "outputs": [
    {
     "name": "stdout",
     "output_type": "stream",
     "text": [
      "['banana', 'cherry', 'kiwi', 'mango']\n"
     ]
    }
   ],
   "source": [
    "# Note how the list comprehesion can be used to filter out unwanted values\n",
    "newlist = [x for x in fruits if x != \"apple\"]\n",
    "print(newlist)"
   ]
  },
  {
   "cell_type": "code",
   "execution_count": 5,
   "metadata": {},
   "outputs": [
    {
     "name": "stdout",
     "output_type": "stream",
     "text": [
      "[0, 1, 2, 3, 4, 5, 6, 7, 8, 9]\n"
     ]
    }
   ],
   "source": [
    "#The iterable can be any iterable object, like a list, tuple, set etc.\n",
    "#You can use the range() function to create an iterable:\n",
    "newlist = [x for x in range(10)]\n",
    "print(newlist)"
   ]
  },
  {
   "cell_type": "code",
   "execution_count": 6,
   "metadata": {},
   "outputs": [
    {
     "name": "stdout",
     "output_type": "stream",
     "text": [
      "[0, 1, 2, 3, 4]\n"
     ]
    }
   ],
   "source": [
    "newlist = [x for x in range(10) if x <5]\n",
    "print(newlist)"
   ]
  },
  {
   "cell_type": "code",
   "execution_count": 7,
   "metadata": {},
   "outputs": [
    {
     "name": "stdout",
     "output_type": "stream",
     "text": [
      "['APPLE', 'BANANA', 'CHERRY', 'KIWI', 'MANGO']\n"
     ]
    }
   ],
   "source": [
    "#Experssion\n",
    "#The expression is the current item in the iteration, but it is also the outcome, which you can manipulate before it ends up like a list item in the new list:\n",
    "newlist = [x.upper() for x in fruits]\n",
    "print(newlist)"
   ]
  },
  {
   "cell_type": "code",
   "execution_count": 8,
   "metadata": {},
   "outputs": [
    {
     "name": "stdout",
     "output_type": "stream",
     "text": [
      "['apple', 'orange', 'cherry', 'kiwi', 'mango']\n"
     ]
    }
   ],
   "source": [
    "# The expression can also contain conditions, not like a filter, but as a way to manipulate the outcome:\n",
    "newlist = [x if x != \"banana\" else \"orange\" for x in fruits]\n",
    "print(newlist)"
   ]
  },
  {
   "cell_type": "markdown",
   "metadata": {},
   "source": [
    "Easy\n",
    "1.Squares of Numbers\n",
    "Create a list of squares of numbers from 1 to 10 using list comprehension.\n",
    "\n",
    "2.Filter Even Numbers\n",
    "From a list of numbers [1, 2, 3, 4, 5, 6, 7, 8, 9, 10], create a new list containing only the even numbers.\n",
    "\n",
    "3.Uppercase Strings\n",
    "Given a list of strings ['hello', 'world', 'python'], create a new list where each string is in uppercase.\n",
    "\n",
    "4.Multiples of 3\n",
    "Generate a list of multiples of 3 between 1 and 30."
   ]
  },
  {
   "cell_type": "markdown",
   "metadata": {},
   "source": [
    "Intermediate\n",
    "Flatten a Nested List\n",
    "Given a nested list [[1, 2, 3], [4, 5], [6, 7, 8]], flatten it into a single list [1, 2, 3, 4, 5, 6, 7, 8].\n",
    "\n",
    "Prime Numbers\n",
    "Generate a list of all prime numbers between 1 and 50 using list comprehension. (Hint: Use a nested loop to check divisors.)\n",
    "\n",
    "Words with 'a'\n",
    "From a list of words ['apple', 'banana', 'cherry', 'date', 'fig', 'grape'], create a new list containing only the words that have the letter 'a'.\n",
    "\n",
    "Fibonacci Sequence\n",
    "Create a list containing the first 10 numbers in the Fibonacci sequence."
   ]
  },
  {
   "cell_type": "markdown",
   "metadata": {},
   "source": [
    "Hard\n",
    "Matrix Transpose\n",
    "Given a 2D matrix [[1, 2, 3], [4, 5, 6], [7, 8, 9]], use list comprehension to find its transpose.\n",
    "\n",
    "Pythagorean Triplets\n",
    "Generate a list of all Pythagorean triplets (a, b, c) where a, b, c are integers less than 20.\n",
    "\n",
    "Character Frequency\n",
    "Given a string s = \"comprehension\", create a dictionary using dictionary comprehension that maps each character in the string to its frequency.\n",
    "\n",
    "Pascal's Triangle\n",
    "Generate the first 5 rows of Pascal's Triangle as a list of lists."
   ]
  }
 ],
 "metadata": {
  "kernelspec": {
   "display_name": "Python 3",
   "language": "python",
   "name": "python3"
  },
  "language_info": {
   "codemirror_mode": {
    "name": "ipython",
    "version": 3
   },
   "file_extension": ".py",
   "mimetype": "text/x-python",
   "name": "python",
   "nbconvert_exporter": "python",
   "pygments_lexer": "ipython3",
   "version": "3.13.1"
  }
 },
 "nbformat": 4,
 "nbformat_minor": 2
}
